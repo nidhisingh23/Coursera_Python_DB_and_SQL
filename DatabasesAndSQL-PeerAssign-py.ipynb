{
    "cells": [
        {
            "cell_type": "markdown",
            "metadata": {},
            "source": "<a href=\"https://cognitiveclass.ai\"><img src = \"https://ibm.box.com/shared/static/ugcqz6ohbvff804xp84y4kqnvvk3bq1g.png\" width = 300, align = \"center\"></a>\n\n<h1 align=center><font size = 5>Assignment: Notebook for Peer Assignment</font></h1>"
        },
        {
            "cell_type": "markdown",
            "metadata": {},
            "source": "# Introduction\n\nUsing this Python notebook you will:\n1. Understand 3 Chicago datasets  \n1. Load the 3 datasets into 3 tables in a Db2 database\n1. Execute SQL queries to answer assignment questions "
        },
        {
            "cell_type": "markdown",
            "metadata": {},
            "source": "## Understand the datasets \nTo complete the assignment problems in this notebook you will be using three datasets that are available on the city of Chicago's Data Portal:\n1. <a href=\"https://data.cityofchicago.org/Health-Human-Services/Census-Data-Selected-socioeconomic-indicators-in-C/kn9c-c2s2\">Socioeconomic Indicators in Chicago</a>\n1. <a href=\"https://data.cityofchicago.org/Education/Chicago-Public-Schools-Progress-Report-Cards-2011-/9xs2-f89t\">Chicago Public Schools</a>\n1. <a href=\"https://data.cityofchicago.org/Public-Safety/Crimes-2001-to-present/ijzp-q8t2\">Chicago Crime Data</a>\n\n### 1. Socioeconomic Indicators in Chicago\nThis dataset contains a selection of six socioeconomic indicators of public health significance and a \u201chardship index,\u201d for each Chicago community area, for the years 2008 \u2013 2012.\n\nFor this assignment you will use a snapshot of this dataset which can be downloaded from:\nhttps://ibm.box.com/shared/static/05c3415cbfbtfnr2fx4atenb2sd361ze.csv\n\nA detailed description of this dataset and the original dataset can be obtained from the Chicago Data Portal at:\nhttps://data.cityofchicago.org/Health-Human-Services/Census-Data-Selected-socioeconomic-indicators-in-C/kn9c-c2s2\n\n\n\n### 2. Chicago Public Schools\n\nThis dataset shows all school level performance data used to create CPS School Report Cards for the 2011-2012 school year. This dataset is provided by the city of Chicago's Data Portal.\n\nFor this assignment you will use a snapshot of this dataset which can be downloaded from:\nhttps://ibm.box.com/shared/static/f9gjvj1gjmxxzycdhplzt01qtz0s7ew7.csv\n\nA detailed description of this dataset and the original dataset can be obtained from the Chicago Data Portal at:\nhttps://data.cityofchicago.org/Education/Chicago-Public-Schools-Progress-Report-Cards-2011-/9xs2-f89t\n\n\n\n\n### 3. Chicago Crime Data \n\nThis dataset reflects reported incidents of crime (with the exception of murders where data exists for each victim) that occurred in the City of Chicago from 2001 to present, minus the most recent seven days. \n\nThis dataset is quite large - over 1.5GB in size with over 6.5 million rows. For the purposes of this assignment we will use a much smaller sample of this dataset which can be downloaded from:\nhttps://ibm.box.com/shared/static/svflyugsr9zbqy5bmowgswqemfpm1x7f.csv\n\nA detailed description of this dataset and the original dataset can be obtained from the Chicago Data Portal at:\nhttps://data.cityofchicago.org/Public-Safety/Crimes-2001-to-present/ijzp-q8t2\n"
        },
        {
            "cell_type": "markdown",
            "metadata": {},
            "source": "### Download the datasets\nIn many cases the dataset to be analyzed is available as a .CSV (comma separated values) file, perhaps on the internet. Click on the links below to download and save the datasets (.CSV files):\n1. __CENSUS_DATA:__ https://ibm.box.com/shared/static/05c3415cbfbtfnr2fx4atenb2sd361ze.csv\n1. __CHICAGO_PUBLIC_SCHOOLS__  https://ibm.box.com/shared/static/f9gjvj1gjmxxzycdhplzt01qtz0s7ew7.csv\n1. __CHICAGO_CRIME_DATA:__ https://ibm.box.com/shared/static/svflyugsr9zbqy5bmowgswqemfpm1x7f.csv\n\n__NOTE:__ Ensure you have downloaded the datasets using the links above instead of directly from the Chicago Data Portal. The versions linked here are subsets of the original datasets and have some of the column names modified to be more database friendly which will make it easier to complete this assignment."
        },
        {
            "cell_type": "markdown",
            "metadata": {},
            "source": "### Store the datasets in database tables\nTo analyze the data using SQL, it first needs to be stored in the database.\n\nWhile it is easier to read the dataset into a Pandas dataframe and then PERSIST it into the database as we saw in Week 3 Lab 3, it results in mapping to default datatypes which may not be optimal for SQL querying. For example a long textual field may map to a CLOB instead of a VARCHAR. \n\nTherefore, __it is highly recommended to manually load the table using the database console LOAD tool, as indicated in Week 2 Lab 1 Part II__. The only difference with that lab is that in Step 5 of the instructions you will need to click on create \"(+) New Table\" and specify the name of the table you want to create and then click \"Next\". \n\n<img src = \"https://ibm.box.com/shared/static/uc4xjh1uxcc78ks1i18v668simioz4es.jpg\">\n\n##### Now open the Db2 console, open the LOAD tool, Select / Drag the .CSV file for the first dataset, Next create a New Table, and then follow the steps on-screen instructions to load the data. Name the new tables as folows:\n1. __CENSUS_DATA__\n1. __CHICAGO_PUBLIC_SCHOOLS__\n1. __CHICAGO_CRIME_DATA__"
        },
        {
            "cell_type": "markdown",
            "metadata": {},
            "source": "### Connect to the database \nLet us first load the SQL extension and establish a connection with the database"
        },
        {
            "cell_type": "code",
            "execution_count": 1,
            "metadata": {},
            "outputs": [],
            "source": "%load_ext sql"
        },
        {
            "cell_type": "markdown",
            "metadata": {},
            "source": "In the next cell enter your db2 connection string. Recall you created Service Credentials for your Db2 instance in first lab in Week 3. From the __uri__ field of your Db2 service credentials copy everything after db2:// (except the double quote at the end) and paste it in the cell below after ibm_db_sa://\n\n<img src =\"https://ibm.box.com/shared/static/hzhkvdyinpupm2wfx49lkr71q9swbpec.jpg\">"
        },
        {
            "cell_type": "code",
            "execution_count": 2,
            "metadata": {},
            "outputs": [
                {
                    "data": {
                        "text/plain": "'Connected: jsm88493@BLUDB'"
                    },
                    "execution_count": 2,
                    "metadata": {},
                    "output_type": "execute_result"
                }
            ],
            "source": "# Remember the connection string is of the format:\n# %sql ibm_db_sa://my-username:my-password@my-hostname:my-port/my-db-name\n# Enter the connection string for your Db2 on Cloud database instance below\n%sql ibm_db_sa://jsm88493:0szr2d400%2B3zs4rk@dashdb-txn-sbox-yp-dal09-14.services.dal.bluemix.net:50000/BLUDB"
        },
        {
            "cell_type": "markdown",
            "metadata": {},
            "source": "## Problems\nNow write and execute SQL queries to solve assignment problems\n\n### Problem 1\n\n##### Find the total number of crimes recorded in the CRIME table"
        },
        {
            "cell_type": "code",
            "execution_count": 3,
            "metadata": {},
            "outputs": [
                {
                    "name": "stdout",
                    "output_type": "stream",
                    "text": " * ibm_db_sa://jsm88493:***@dashdb-txn-sbox-yp-dal09-14.services.dal.bluemix.net:50000/BLUDB\nDone.\n"
                },
                {
                    "data": {
                        "text/html": "<table>\n    <tr>\n        <th>total_crimes</th>\n    </tr>\n    <tr>\n        <td>533</td>\n    </tr>\n</table>",
                        "text/plain": "[(Decimal('533'),)]"
                    },
                    "execution_count": 3,
                    "metadata": {},
                    "output_type": "execute_result"
                }
            ],
            "source": "# Rows in Crime table\n%sql select count(DISTINCT ID) as total_crimes from CHICAGO_CRIME_DATA"
        },
        {
            "cell_type": "markdown",
            "metadata": {},
            "source": "### Problem 2\n\n##### Retrieve first 10 rows from the CRIME table\n"
        },
        {
            "cell_type": "code",
            "execution_count": 4,
            "metadata": {},
            "outputs": [
                {
                    "name": "stdout",
                    "output_type": "stream",
                    "text": " * ibm_db_sa://jsm88493:***@dashdb-txn-sbox-yp-dal09-14.services.dal.bluemix.net:50000/BLUDB\nDone.\n"
                },
                {
                    "data": {
                        "text/html": "<table>\n    <tr>\n        <th>id</th>\n        <th>case_number</th>\n        <th>DATE</th>\n        <th>block</th>\n        <th>iucr</th>\n        <th>primary_type</th>\n        <th>description</th>\n        <th>location_description</th>\n        <th>arrest</th>\n        <th>domestic</th>\n        <th>beat</th>\n        <th>district</th>\n        <th>ward</th>\n        <th>community_area_number</th>\n        <th>fbicode</th>\n        <th>x_coordinate</th>\n        <th>y_coordinate</th>\n        <th>YEAR</th>\n        <th>updateon</th>\n        <th>latitude</th>\n        <th>longitude</th>\n        <th>location</th>\n    </tr>\n    <tr>\n        <td>10003235</td>\n        <td>HY192694</td>\n        <td>2015-03-21 03:41:00</td>\n        <td>064XX S OAKLEY AVE</td>\n        <td>486</td>\n        <td>BATTERY                                           </td>\n        <td>DOMESTIC BATTERY SIMPLE</td>\n        <td>APARTMENT</td>\n        <td>FALSE</td>\n        <td>FALSE</td>\n        <td>825</td>\n        <td>8 </td>\n        <td>15</td>\n        <td>66</td>\n        <td>08B</td>\n        <td>1162182</td>\n        <td>1861826</td>\n        <td>2015</td>\n        <td>2018-02-10 15:50:01</td>\n        <td>41.77651055</td>\n        <td>-87.68100012</td>\n        <td>(41.776510546, -87.681000121)</td>\n    </tr>\n    <tr>\n        <td>10012707</td>\n        <td>HY202462</td>\n        <td>2015-03-28 18:00:00</td>\n        <td>056XX W BYRON ST</td>\n        <td>810</td>\n        <td>THEFT                                             </td>\n        <td>OVER $500</td>\n        <td>STREET</td>\n        <td>FALSE</td>\n        <td>FALSE</td>\n        <td>1633</td>\n        <td>16</td>\n        <td>38</td>\n        <td>15</td>\n        <td>6  </td>\n        <td>1138080</td>\n        <td>1925360</td>\n        <td>2015</td>\n        <td>2018-02-10 15:50:01</td>\n        <td>41.95132446</td>\n        <td>-87.76782401</td>\n        <td>(41.95132446, -87.767824012)</td>\n    </tr>\n    <tr>\n        <td>10015483</td>\n        <td>HY204891</td>\n        <td>2015-03-31 11:55:00</td>\n        <td>011XX N PULASKI RD</td>\n        <td>4625</td>\n        <td>OTHER OFFENSE                                     </td>\n        <td>PAROLE VIOLATION</td>\n        <td>SIDEWALK</td>\n        <td>TRUE </td>\n        <td>FALSE</td>\n        <td>1112</td>\n        <td>11</td>\n        <td>27</td>\n        <td>23</td>\n        <td>26 </td>\n        <td>1149510</td>\n        <td>1907365</td>\n        <td>2015</td>\n        <td>2018-02-10 15:50:01</td>\n        <td>41.90172993</td>\n        <td>-87.72627560</td>\n        <td>(41.901729932, -87.726275604)</td>\n    </tr>\n    <tr>\n        <td>10025545</td>\n        <td>HY215032</td>\n        <td>2015-04-08 19:30:00</td>\n        <td>039XX W LEXINGTON ST</td>\n        <td>2014</td>\n        <td>NARCOTICS                                         </td>\n        <td>MANU/DELIVER: HEROIN (WHITE)</td>\n        <td>SIDEWALK</td>\n        <td>TRUE </td>\n        <td>FALSE</td>\n        <td>1132</td>\n        <td>11</td>\n        <td>24</td>\n        <td>26</td>\n        <td>18 </td>\n        <td>1150205</td>\n        <td>1896407</td>\n        <td>2015</td>\n        <td>2018-02-10 15:50:01</td>\n        <td>41.87164648</td>\n        <td>-87.72400857</td>\n        <td>(41.871646482, -87.724008569)</td>\n    </tr>\n    <tr>\n        <td>10046030</td>\n        <td>HY234744</td>\n        <td>2015-04-24 19:55:00</td>\n        <td>008XX N MICHIGAN AVE</td>\n        <td>860</td>\n        <td>THEFT                                             </td>\n        <td>RETAIL THEFT</td>\n        <td>DEPARTMENT STORE</td>\n        <td>TRUE </td>\n        <td>FALSE</td>\n        <td>1833</td>\n        <td>18</td>\n        <td>42</td>\n        <td>8 </td>\n        <td>6  </td>\n        <td>1177338</td>\n        <td>1906213</td>\n        <td>2015</td>\n        <td>2018-02-10 15:50:01</td>\n        <td>41.89798294</td>\n        <td>-87.62409563</td>\n        <td>(41.897982937, -87.624095634)</td>\n    </tr>\n    <tr>\n        <td>10070513</td>\n        <td>HY259084</td>\n        <td>2015-05-13 18:20:00</td>\n        <td>056XX S WOOD ST</td>\n        <td>3710</td>\n        <td>INTERFERENCE WITH PUBLIC OFFICER                  </td>\n        <td>RESIST/OBSTRUCT/DISARM OFFICER</td>\n        <td>STREET</td>\n        <td>FALSE</td>\n        <td>FALSE</td>\n        <td>715</td>\n        <td>7 </td>\n        <td>15</td>\n        <td>67</td>\n        <td>24 </td>\n        <td>1165309</td>\n        <td>1867385</td>\n        <td>2015</td>\n        <td>2018-02-10 15:50:01</td>\n        <td>41.79169949</td>\n        <td>-87.66937930</td>\n        <td>(41.791699487, -87.669379304)</td>\n    </tr>\n    <tr>\n        <td>10079280</td>\n        <td>HY267896</td>\n        <td>2015-05-20 12:35:00</td>\n        <td>115XX S STEWART AVE</td>\n        <td>1320</td>\n        <td>CRIMINAL DAMAGE                                   </td>\n        <td>TO VEHICLE</td>\n        <td>RESIDENTIAL YARD (FRONT/BACK)</td>\n        <td>FALSE</td>\n        <td>TRUE </td>\n        <td>522</td>\n        <td>5 </td>\n        <td>34</td>\n        <td>53</td>\n        <td>14 </td>\n        <td>1175695</td>\n        <td>1828405</td>\n        <td>2015</td>\n        <td>2015-08-17 15:03:40</td>\n        <td>41.68450696</td>\n        <td>-87.63245993</td>\n        <td>(41.684506962, -87.632459932)</td>\n    </tr>\n    <tr>\n        <td>10084732</td>\n        <td>HY273740</td>\n        <td>2015-05-24 21:45:00</td>\n        <td>004XX N STATE ST</td>\n        <td>820</td>\n        <td>THEFT                                             </td>\n        <td>$500 AND UNDER</td>\n        <td>BAR OR TAVERN</td>\n        <td>FALSE</td>\n        <td>FALSE</td>\n        <td>1831</td>\n        <td>18</td>\n        <td>42</td>\n        <td>8 </td>\n        <td>6  </td>\n        <td>1176302</td>\n        <td>1903096</td>\n        <td>2015</td>\n        <td>2018-02-10 15:50:01</td>\n        <td>41.88945317</td>\n        <td>-87.62799483</td>\n        <td>(41.889453169, -87.627994833)</td>\n    </tr>\n    <tr>\n        <td>10102551</td>\n        <td>HY291329</td>\n        <td>2015-06-06 16:42:00</td>\n        <td>028XX W DEVON AVE</td>\n        <td>860</td>\n        <td>THEFT                                             </td>\n        <td>RETAIL THEFT</td>\n        <td>DRUG STORE</td>\n        <td>FALSE</td>\n        <td>FALSE</td>\n        <td>2413</td>\n        <td>24</td>\n        <td>50</td>\n        <td>2 </td>\n        <td>6  </td>\n        <td>1156278</td>\n        <td>1942331</td>\n        <td>2015</td>\n        <td>2018-02-10 15:50:01</td>\n        <td>41.99754480</td>\n        <td>-87.70046744</td>\n        <td>(41.997544797, -87.700467444)</td>\n    </tr>\n    <tr>\n        <td>10177662</td>\n        <td>HY365876</td>\n        <td>2015-08-02 10:47:00</td>\n        <td>041XX W 87TH ST</td>\n        <td>1811</td>\n        <td>NARCOTICS                                         </td>\n        <td>POSS: CANNABIS 30GMS OR LESS</td>\n        <td>STREET</td>\n        <td>TRUE </td>\n        <td>FALSE</td>\n        <td>834</td>\n        <td>8 </td>\n        <td>18</td>\n        <td>70</td>\n        <td>18 </td>\n        <td>1150504</td>\n        <td>1846544</td>\n        <td>2015</td>\n        <td>2018-02-10 15:50:01</td>\n        <td>41.73480925</td>\n        <td>-87.72420818</td>\n        <td>(41.734809253, -87.724208178)</td>\n    </tr>\n</table>",
                        "text/plain": "[('10003235', 'HY192694', datetime.datetime(2015, 3, 21, 3, 41), '064XX S OAKLEY AVE', '486', 'BATTERY                                           ', 'DOMESTIC BATTERY SIMPLE', 'APARTMENT', 'FALSE', 'FALSE', '825', '8 ', '15', '66', '08B', '1162182', '1861826', '2015', datetime.datetime(2018, 2, 10, 15, 50, 1), Decimal('41.77651055'), Decimal('-87.68100012'), '(41.776510546, -87.681000121)'),\n ('10012707', 'HY202462', datetime.datetime(2015, 3, 28, 18, 0), '056XX W BYRON ST', '810', 'THEFT                                             ', 'OVER $500', 'STREET', 'FALSE', 'FALSE', '1633', '16', '38', '15', '6  ', '1138080', '1925360', '2015', datetime.datetime(2018, 2, 10, 15, 50, 1), Decimal('41.95132446'), Decimal('-87.76782401'), '(41.95132446, -87.767824012)'),\n ('10015483', 'HY204891', datetime.datetime(2015, 3, 31, 11, 55), '011XX N PULASKI RD', '4625', 'OTHER OFFENSE                                     ', 'PAROLE VIOLATION', 'SIDEWALK', 'TRUE ', 'FALSE', '1112', '11', '27', '23', '26 ', '1149510', '1907365', '2015', datetime.datetime(2018, 2, 10, 15, 50, 1), Decimal('41.90172993'), Decimal('-87.72627560'), '(41.901729932, -87.726275604)'),\n ('10025545', 'HY215032', datetime.datetime(2015, 4, 8, 19, 30), '039XX W LEXINGTON ST', '2014', 'NARCOTICS                                         ', 'MANU/DELIVER: HEROIN (WHITE)', 'SIDEWALK', 'TRUE ', 'FALSE', '1132', '11', '24', '26', '18 ', '1150205', '1896407', '2015', datetime.datetime(2018, 2, 10, 15, 50, 1), Decimal('41.87164648'), Decimal('-87.72400857'), '(41.871646482, -87.724008569)'),\n ('10046030', 'HY234744', datetime.datetime(2015, 4, 24, 19, 55), '008XX N MICHIGAN AVE', '860', 'THEFT                                             ', 'RETAIL THEFT', 'DEPARTMENT STORE', 'TRUE ', 'FALSE', '1833', '18', '42', '8 ', '6  ', '1177338', '1906213', '2015', datetime.datetime(2018, 2, 10, 15, 50, 1), Decimal('41.89798294'), Decimal('-87.62409563'), '(41.897982937, -87.624095634)'),\n ('10070513', 'HY259084', datetime.datetime(2015, 5, 13, 18, 20), '056XX S WOOD ST', '3710', 'INTERFERENCE WITH PUBLIC OFFICER                  ', 'RESIST/OBSTRUCT/DISARM OFFICER', 'STREET', 'FALSE', 'FALSE', '715', '7 ', '15', '67', '24 ', '1165309', '1867385', '2015', datetime.datetime(2018, 2, 10, 15, 50, 1), Decimal('41.79169949'), Decimal('-87.66937930'), '(41.791699487, -87.669379304)'),\n ('10079280', 'HY267896', datetime.datetime(2015, 5, 20, 12, 35), '115XX S STEWART AVE', '1320', 'CRIMINAL DAMAGE                                   ', 'TO VEHICLE', 'RESIDENTIAL YARD (FRONT/BACK)', 'FALSE', 'TRUE ', '522', '5 ', '34', '53', '14 ', '1175695', '1828405', '2015', datetime.datetime(2015, 8, 17, 15, 3, 40), Decimal('41.68450696'), Decimal('-87.63245993'), '(41.684506962, -87.632459932)'),\n ('10084732', 'HY273740', datetime.datetime(2015, 5, 24, 21, 45), '004XX N STATE ST', '820', 'THEFT                                             ', '$500 AND UNDER', 'BAR OR TAVERN', 'FALSE', 'FALSE', '1831', '18', '42', '8 ', '6  ', '1176302', '1903096', '2015', datetime.datetime(2018, 2, 10, 15, 50, 1), Decimal('41.88945317'), Decimal('-87.62799483'), '(41.889453169, -87.627994833)'),\n ('10102551', 'HY291329', datetime.datetime(2015, 6, 6, 16, 42), '028XX W DEVON AVE', '860', 'THEFT                                             ', 'RETAIL THEFT', 'DRUG STORE', 'FALSE', 'FALSE', '2413', '24', '50', '2 ', '6  ', '1156278', '1942331', '2015', datetime.datetime(2018, 2, 10, 15, 50, 1), Decimal('41.99754480'), Decimal('-87.70046744'), '(41.997544797, -87.700467444)'),\n ('10177662', 'HY365876', datetime.datetime(2015, 8, 2, 10, 47), '041XX W 87TH ST', '1811', 'NARCOTICS                                         ', 'POSS: CANNABIS 30GMS OR LESS', 'STREET', 'TRUE ', 'FALSE', '834', '8 ', '18', '70', '18 ', '1150504', '1846544', '2015', datetime.datetime(2018, 2, 10, 15, 50, 1), Decimal('41.73480925'), Decimal('-87.72420818'), '(41.734809253, -87.724208178)')]"
                    },
                    "execution_count": 4,
                    "metadata": {},
                    "output_type": "execute_result"
                }
            ],
            "source": "%sql select * from CHICAGO_CRIME_DATA limit 10"
        },
        {
            "cell_type": "markdown",
            "metadata": {},
            "source": "### Problem 3\n\n##### How many crimes involve an arrest?"
        },
        {
            "cell_type": "code",
            "execution_count": 17,
            "metadata": {},
            "outputs": [
                {
                    "name": "stdout",
                    "output_type": "stream",
                    "text": " * ibm_db_sa://jsm88493:***@dashdb-txn-sbox-yp-dal09-14.services.dal.bluemix.net:50000/BLUDB\nDone.\n"
                },
                {
                    "data": {
                        "text/html": "<table>\n    <tr>\n        <th>total_arrest</th>\n    </tr>\n    <tr>\n        <td>163</td>\n    </tr>\n</table>",
                        "text/plain": "[(Decimal('163'),)]"
                    },
                    "execution_count": 17,
                    "metadata": {},
                    "output_type": "execute_result"
                }
            ],
            "source": "%sql select count(*) as total_arrest from CHICAGO_CRIME_DATA where arrest = TRUE"
        },
        {
            "cell_type": "markdown",
            "metadata": {},
            "source": "### Problem 4\n\n##### Which unique types of crimes have been recorded at GAS STATION locations?\n"
        },
        {
            "cell_type": "code",
            "execution_count": 6,
            "metadata": {},
            "outputs": [
                {
                    "name": "stdout",
                    "output_type": "stream",
                    "text": " * ibm_db_sa://jsm88493:***@dashdb-txn-sbox-yp-dal09-14.services.dal.bluemix.net:50000/BLUDB\nDone.\n"
                },
                {
                    "data": {
                        "text/html": "<table>\n    <tr>\n        <th>primary_type</th>\n    </tr>\n    <tr>\n        <td>CRIMINAL TRESPASS                                 </td>\n    </tr>\n    <tr>\n        <td>NARCOTICS                                         </td>\n    </tr>\n    <tr>\n        <td>ROBBERY                                           </td>\n    </tr>\n    <tr>\n        <td>THEFT                                             </td>\n    </tr>\n</table>",
                        "text/plain": "[('CRIMINAL TRESPASS                                 ',),\n ('NARCOTICS                                         ',),\n ('ROBBERY                                           ',),\n ('THEFT                                             ',)]"
                    },
                    "execution_count": 6,
                    "metadata": {},
                    "output_type": "execute_result"
                }
            ],
            "source": "%sql select DISTINCT PRIMARY_TYPE from CHICAGO_CRIME_DATA where LOCATION_DESCRIPTION = 'GAS STATION'"
        },
        {
            "cell_type": "markdown",
            "metadata": {},
            "source": "Hint: Which column lists types of crimes e.g. THEFT?"
        },
        {
            "cell_type": "markdown",
            "metadata": {},
            "source": "### Problem 5\n\n##### In the CENUS_DATA table list all Community Areas whose names start with the letter \u2018B\u2019."
        },
        {
            "cell_type": "code",
            "execution_count": 7,
            "metadata": {},
            "outputs": [
                {
                    "name": "stdout",
                    "output_type": "stream",
                    "text": " * ibm_db_sa://jsm88493:***@dashdb-txn-sbox-yp-dal09-14.services.dal.bluemix.net:50000/BLUDB\nDone.\n"
                },
                {
                    "data": {
                        "text/html": "<table>\n    <tr>\n        <th>community_area_name</th>\n    </tr>\n    <tr>\n        <td>Belmont Cragin</td>\n    </tr>\n    <tr>\n        <td>Burnside</td>\n    </tr>\n    <tr>\n        <td>Brighton Park</td>\n    </tr>\n    <tr>\n        <td>Bridgeport</td>\n    </tr>\n    <tr>\n        <td>Beverly</td>\n    </tr>\n</table>",
                        "text/plain": "[('Belmont Cragin',),\n ('Burnside',),\n ('Brighton Park',),\n ('Bridgeport',),\n ('Beverly',)]"
                    },
                    "execution_count": 7,
                    "metadata": {},
                    "output_type": "execute_result"
                }
            ],
            "source": "%sql select COMMUNITY_AREA_NAME from CENSUS_DATA where COMMUNITY_AREA_NAME like 'B%'"
        },
        {
            "cell_type": "markdown",
            "metadata": {},
            "source": "### Problem 6\n\n##### Which schools in Community Areas 10 to 15 are healthy school certified?"
        },
        {
            "cell_type": "code",
            "execution_count": 8,
            "metadata": {},
            "outputs": [
                {
                    "name": "stdout",
                    "output_type": "stream",
                    "text": " * ibm_db_sa://jsm88493:***@dashdb-txn-sbox-yp-dal09-14.services.dal.bluemix.net:50000/BLUDB\nDone.\n"
                },
                {
                    "data": {
                        "text/html": "<table>\n    <tr>\n        <th>name_of_school</th>\n    </tr>\n    <tr>\n        <td>Rufus M Hitch Elementary School</td>\n    </tr>\n</table>",
                        "text/plain": "[('Rufus M Hitch Elementary School',)]"
                    },
                    "execution_count": 8,
                    "metadata": {},
                    "output_type": "execute_result"
                }
            ],
            "source": "%sql select NAME_OF_SCHOOL from CHICAGO_PUBLIC_SCHOOLS \\\nwhere COMMUNITY_AREA_NUMBER BETWEEN 10 and 15 AND HEALTHY_SCHOOL_CERTIFIED = 'Yes'"
        },
        {
            "cell_type": "markdown",
            "metadata": {},
            "source": "### Problem 7\n\n##### What is the average school Safety Score? "
        },
        {
            "cell_type": "code",
            "execution_count": 9,
            "metadata": {},
            "outputs": [
                {
                    "name": "stdout",
                    "output_type": "stream",
                    "text": " * ibm_db_sa://jsm88493:***@dashdb-txn-sbox-yp-dal09-14.services.dal.bluemix.net:50000/BLUDB\nDone.\n"
                },
                {
                    "data": {
                        "text/html": "<table>\n    <tr>\n        <th>avg_safety_score</th>\n    </tr>\n    <tr>\n        <td>49.50487329434697855750487329434698</td>\n    </tr>\n</table>",
                        "text/plain": "[('49.50487329434697855750487329434698',)]"
                    },
                    "execution_count": 9,
                    "metadata": {},
                    "output_type": "execute_result"
                }
            ],
            "source": "%sql select avg(SAFETY_SCORE) as Avg_Safety_Score from CHICAGO_PUBLIC_SCHOOLS"
        },
        {
            "cell_type": "markdown",
            "metadata": {},
            "source": "### Problem 8\n\n##### List the top 5 Community Areas by average College Enrollment [number of students] "
        },
        {
            "cell_type": "code",
            "execution_count": 10,
            "metadata": {},
            "outputs": [
                {
                    "name": "stdout",
                    "output_type": "stream",
                    "text": " * ibm_db_sa://jsm88493:***@dashdb-txn-sbox-yp-dal09-14.services.dal.bluemix.net:50000/BLUDB\nDone.\n"
                },
                {
                    "data": {
                        "text/html": "<table>\n    <tr>\n        <th>community_area_number</th>\n        <th>community_area_name</th>\n        <th>avg_college_enrollment</th>\n    </tr>\n    <tr>\n        <td>57  </td>\n        <td>ARCHER HEIGHTS</td>\n        <td>2411.5</td>\n    </tr>\n    <tr>\n        <td>18  </td>\n        <td>MONTCLARE</td>\n        <td>1317</td>\n    </tr>\n    <tr>\n        <td>62  </td>\n        <td>WEST ELSDON</td>\n        <td>1233.333333333333333333333333333333</td>\n    </tr>\n    <tr>\n        <td>58  </td>\n        <td>BRIGHTON PARK</td>\n        <td>1205.875</td>\n    </tr>\n    <tr>\n        <td>19  </td>\n        <td>BELMONT CRAGIN</td>\n        <td>1198.833333333333333333333333333333</td>\n    </tr>\n</table>",
                        "text/plain": "[('57  ', 'ARCHER HEIGHTS', '2411.5'),\n ('18  ', 'MONTCLARE', '1317'),\n ('62  ', 'WEST ELSDON', '1233.333333333333333333333333333333'),\n ('58  ', 'BRIGHTON PARK', '1205.875'),\n ('19  ', 'BELMONT CRAGIN', '1198.833333333333333333333333333333')]"
                    },
                    "execution_count": 10,
                    "metadata": {},
                    "output_type": "execute_result"
                }
            ],
            "source": "%sql select COMMUNITY_AREA_NUMBER, COMMUNITY_AREA_NAME, Avg(COLLEGE_ENROLLMENT) as Avg_College_Enrollment from \\\nCHICAGO_PUBLIC_SCHOOLS group by COMMUNITY_AREA_NUMBER, COMMUNITY_AREA_NAME order by Avg_College_Enrollment desc limit 5"
        },
        {
            "cell_type": "markdown",
            "metadata": {},
            "source": "### Problem 9\n\n##### Use a sub-query to determine which Community Area has the least value for school Safety Score? "
        },
        {
            "cell_type": "code",
            "execution_count": 11,
            "metadata": {},
            "outputs": [
                {
                    "name": "stdout",
                    "output_type": "stream",
                    "text": " * ibm_db_sa://jsm88493:***@dashdb-txn-sbox-yp-dal09-14.services.dal.bluemix.net:50000/BLUDB\nDone.\n"
                },
                {
                    "data": {
                        "text/html": "<table>\n    <tr>\n        <th>community_number</th>\n        <th>community_name</th>\n    </tr>\n    <tr>\n        <td>40  </td>\n        <td>WASHINGTON PARK</td>\n    </tr>\n</table>",
                        "text/plain": "[('40  ', 'WASHINGTON PARK')]"
                    },
                    "execution_count": 11,
                    "metadata": {},
                    "output_type": "execute_result"
                }
            ],
            "source": "%sql select COMMUNITY_AREA_NUMBER as Community_number, COMMUNITY_AREA_NAME as Community_name from CHICAGO_PUBLIC_SCHOOLS \\\nwhere SAFETY_SCORE = (select min(SAFETY_SCORE) from CHICAGO_PUBLIC_SCHOOLS)"
        },
        {
            "cell_type": "markdown",
            "metadata": {},
            "source": "### Problem 10\n\n##### [Without using an explicit JOIN operator] Find the Per Capita Income of the Community Area which has a school Safety Score of 1."
        },
        {
            "cell_type": "code",
            "execution_count": 15,
            "metadata": {},
            "outputs": [
                {
                    "name": "stdout",
                    "output_type": "stream",
                    "text": " * ibm_db_sa://jsm88493:***@dashdb-txn-sbox-yp-dal09-14.services.dal.bluemix.net:50000/BLUDB\nDone.\n"
                },
                {
                    "data": {
                        "text/html": "<table>\n    <tr>\n        <th>community_area_name</th>\n        <th>per_capita_income</th>\n    </tr>\n    <tr>\n        <td>Washington Park</td>\n        <td>13785</td>\n    </tr>\n</table>",
                        "text/plain": "[('Washington Park', '13785')]"
                    },
                    "execution_count": 15,
                    "metadata": {},
                    "output_type": "execute_result"
                }
            ],
            "source": "%sql select CD.COMMUNITY_AREA_NAME, CD.PER_CAPITA_INCOME from CENSUS_DATA CD, CHICAGO_PUBLIC_SCHOOLS CPS \\\nwhere CD.COMMUNITY_AREA_NUMBER = CPS.COMMUNITY_AREA_NUMBER and CPS.SAFETY_SCORE = 1;"
        },
        {
            "cell_type": "code",
            "execution_count": 16,
            "metadata": {},
            "outputs": [
                {
                    "name": "stdout",
                    "output_type": "stream",
                    "text": " * ibm_db_sa://jsm88493:***@dashdb-txn-sbox-yp-dal09-14.services.dal.bluemix.net:50000/BLUDB\nDone.\n"
                },
                {
                    "data": {
                        "text/html": "<table>\n    <tr>\n        <th>community_area_name</th>\n        <th>per_capita_income</th>\n    </tr>\n    <tr>\n        <td>Washington Park</td>\n        <td>13785</td>\n    </tr>\n</table>",
                        "text/plain": "[('Washington Park', '13785')]"
                    },
                    "execution_count": 16,
                    "metadata": {},
                    "output_type": "execute_result"
                }
            ],
            "source": "%sql select COMMUNITY_AREA_NAME, per_capita_income from CENSUS_DATA \\\n    where community_area_number = (select community_area_number from CHICAGO_PUBLIC_SCHOOLS where safety_score = 1)"
        },
        {
            "cell_type": "markdown",
            "metadata": {},
            "source": "Copyright &copy; 2018 [cognitiveclass.ai](cognitiveclass.ai?utm_source=bducopyrightlink&utm_medium=dswb&utm_campaign=bdu). This notebook and its source code are released under the terms of the [MIT License](https://bigdatauniversity.com/mit-license/).\n"
        }
    ],
    "metadata": {
        "kernelspec": {
            "display_name": "Python",
            "language": "python",
            "name": "conda-env-python-py"
        },
        "language_info": {
            "codemirror_mode": {
                "name": "ipython",
                "version": 3
            },
            "file_extension": ".py",
            "mimetype": "text/x-python",
            "name": "python",
            "nbconvert_exporter": "python",
            "pygments_lexer": "ipython3",
            "version": "3.6.11"
        },
        "widgets": {
            "state": {},
            "version": "1.1.2"
        }
    },
    "nbformat": 4,
    "nbformat_minor": 4
}